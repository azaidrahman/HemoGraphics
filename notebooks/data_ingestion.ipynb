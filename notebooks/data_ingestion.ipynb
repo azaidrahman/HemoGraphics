{
 "cells": [
  {
   "cell_type": "code",
   "execution_count": 1,
   "metadata": {},
   "outputs": [],
   "source": [
    "# Imports\n",
    "import sys\n",
    "import requests\n",
    "import pandas as pd\n",
    "import os\n",
    "from datetime import datetime, timedelta\n",
    "import shutil\n",
    "from helper_functions import fetch_and_save_csv_files, cleanup_old_data_folders\n",
    "\n",
    "# Constants\n",
    "BASE_RAW_URL = 'https://raw.githubusercontent.com/MoH-Malaysia/data-darah-public/main/'\n",
    "API_URL = 'https://api.github.com/repos/MoH-Malaysia/data-darah-public/contents/'\n",
    "DATA_DIRECTORY = '../data/'\n"
   ]
  },
  {
   "cell_type": "code",
   "execution_count": 5,
   "metadata": {},
   "outputs": [
    {
     "name": "stdout",
     "output_type": "stream",
     "text": [
      "Data saved to ../data/2024-01-19\\donations_facility.csv\n",
      "Data saved to ../data/2024-01-19\\donations_state.csv\n",
      "Data saved to ../data/2024-01-19\\newdonors_facility.csv\n",
      "Data saved to ../data/2024-01-19\\newdonors_state.csv\n"
     ]
    }
   ],
   "source": [
    "# Call the function to fetch and save CSV files\n",
    "fetch_and_save_csv_files()\n"
   ]
  },
  {
   "cell_type": "code",
   "execution_count": 20,
   "metadata": {},
   "outputs": [],
   "source": [
    "# Call the cleanup function\n",
    "cleanup_old_data_folders(DATA_DIRECTORY)\n"
   ]
  }
 ],
 "metadata": {
  "kernelspec": {
   "display_name": "venv",
   "language": "python",
   "name": "python3"
  },
  "language_info": {
   "codemirror_mode": {
    "name": "ipython",
    "version": 3
   },
   "file_extension": ".py",
   "mimetype": "text/x-python",
   "name": "python",
   "nbconvert_exporter": "python",
   "pygments_lexer": "ipython3",
   "version": "3.12.1"
  }
 },
 "nbformat": 4,
 "nbformat_minor": 2
}
