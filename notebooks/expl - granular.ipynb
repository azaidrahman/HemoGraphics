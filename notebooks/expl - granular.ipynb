{
 "cells": [
  {
   "cell_type": "code",
   "execution_count": 1,
   "metadata": {},
   "outputs": [
    {
     "name": "stdout",
     "output_type": "stream",
     "text": [
      "        donor_id  visit_date  birth_date\n",
      "6231779    01fCa  2024-01-14        1983\n",
      "6231780    08JUV  2024-01-14        1976\n",
      "6231781    00Rtd  2024-01-14        1989\n",
      "6231782    00UdI  2024-01-14        1981\n",
      "6231783    01YiB  2024-01-14        1998\n"
     ]
    }
   ],
   "source": [
    "import requests\n",
    "import pandas as pd\n",
    "from io import BytesIO\n",
    "\n",
    "# The URL that redirects to the Parquet file\n",
    "url_granular = 'https://dub.sh/ds-data-granular'\n",
    "\n",
    "response = requests.get(url_granular, stream=True)\n",
    "\n",
    "if response.status_code == 200:\n",
    "    # Read the content of the response in bytes\n",
    "    file_content = response.content\n",
    "    # Use BytesIO as a buffer for the binary data\n",
    "    df_granular = pd.read_parquet(BytesIO(file_content), engine='pyarrow')\n",
    "    print(df_granular.tail())\n",
    "else:\n",
    "    print(\"Failed to download the granular data file.\")"
   ]
  },
  {
   "cell_type": "code",
   "execution_count": 4,
   "metadata": {},
   "outputs": [
    {
     "data": {
      "text/plain": [
       "Index(['donor_id', 'visit_date', 'birth_date'], dtype='object')"
      ]
     },
     "execution_count": 4,
     "metadata": {},
     "output_type": "execute_result"
    }
   ],
   "source": [
    "df_granular.columns\n",
    "\n",
    "## The dataset logs each donor's ID, visit date, and birth date, tracking donation frequency and donor ages. \n",
    "## It's concise, aimed at monitoring donations and analyzing donor demographics."
   ]
  }
 ],
 "metadata": {
  "kernelspec": {
   "display_name": "venv",
   "language": "python",
   "name": "python3"
  },
  "language_info": {
   "codemirror_mode": {
    "name": "ipython",
    "version": 3
   },
   "file_extension": ".py",
   "mimetype": "text/x-python",
   "name": "python",
   "nbconvert_exporter": "python",
   "pygments_lexer": "ipython3",
   "version": "3.12.1"
  }
 },
 "nbformat": 4,
 "nbformat_minor": 2
}
